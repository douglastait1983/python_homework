{
 "cells": [
  {
   "cell_type": "markdown",
   "id": "8a32a03b-1119-4aae-b6cb-783d253fd21c",
   "metadata": {},
   "source": [
    "# Pybank Homework"
   ]
  },
  {
   "cell_type": "code",
   "execution_count": 1,
   "id": "f3639c6a-e278-49c9-a917-13dfd719ff8e",
   "metadata": {},
   "outputs": [
    {
     "name": "stdout",
     "output_type": "stream",
     "text": [
      "C:\\Users\\dougl\\OneDrive\\Desktop\\Bootcamp Fintech\\2.WEEK 2\\Homework\\Instructions\\PyBank\\Resources\n"
     ]
    }
   ],
   "source": [
    "cd C:\\Users\\dougl\\OneDrive\\Desktop\\Bootcamp Fintech\\2.WEEK 2\\Homework\\Instructions\\PyBank\\Resources"
   ]
  },
  {
   "cell_type": "code",
   "execution_count": 2,
   "id": "8b8de743-29f4-4517-9e1c-d807ebc140b0",
   "metadata": {},
   "outputs": [],
   "source": [
    "from pathlib import Path\n",
    "import csv"
   ]
  },
  {
   "cell_type": "code",
   "execution_count": 3,
   "id": "32220fc6-75bd-402f-b86c-e7103e4da60a",
   "metadata": {},
   "outputs": [],
   "source": [
    "csvpath = Path('budget_data.csv')"
   ]
  },
  {
   "cell_type": "code",
   "execution_count": 25,
   "id": "23ba2e53-ff36-4047-b158-85768ae369b4",
   "metadata": {},
   "outputs": [],
   "source": [
    "# Initialise variables\n",
    "total_months = 0\n",
    "total_amount = 0\n",
    "count = 0\n",
    "average = 0\n",
    "loss = 0\n",
    "profit = 0"
   ]
  },
  {
   "cell_type": "code",
   "execution_count": 15,
   "id": "bd4935d1-aea9-4842-8098-21198a64eca2",
   "metadata": {},
   "outputs": [],
   "source": [
    "with open (csvpath, 'r') as csvfile:\n",
    "    reader = csv.reader(csvfile, delimiter=',')\n",
    "    header = next(reader)\n",
    "    \n",
    "    for row in reader:\n",
    "        total_months+= 1\n",
    "        total_amount += int(row[1])\n",
    "        \n",
    "        if loss == 0:\n",
    "            loss = total_amount\n",
    "        elif total_amount < loss:\n",
    "            loss = total_amount\n",
    "        elif total_amount > profit:\n",
    "            profit = total_amount"
   ]
  },
  {
   "cell_type": "code",
   "execution_count": 21,
   "id": "d863f8ce-b1a2-40f5-89af-adb20df42f9f",
   "metadata": {},
   "outputs": [],
   "source": [
    "average = round(total_amount/total_months)"
   ]
  },
  {
   "cell_type": "code",
   "execution_count": 24,
   "id": "c5b3e420-a100-4e83-8e92-9a929bf19d74",
   "metadata": {},
   "outputs": [
    {
     "name": "stdout",
     "output_type": "stream",
     "text": [
      "Financial Analysis\n",
      "----------------------------------------------------------\n",
      "Total Month: 0\n",
      "Total:$ 0\n",
      "Average Change: 0\n",
      "Greatest Increase in Profits: Couldn't work the code out \n",
      "Greatest Decrease in Profits: Couldn't work the code out \n"
     ]
    }
   ],
   "source": [
    "# Print out the summary statistics\n",
    "\n",
    "# with open(xxxx,'w') as file:\n",
    "\n",
    "print(\"Financial Analysis\")\n",
    "print(\"----------------------------------------------------------\")\n",
    "print(f\"Total Month: {total_months}\")\n",
    "print(f\"Total:$ {total_amount}\")\n",
    "print(f\"Average Change: {average}\")\n",
    "print(\"Greatest Increase in Profits: Couldn't work the code out \")\n",
    "print(\"Greatest Decrease in Profits: Couldn't work the code out \")"
   ]
  },
  {
   "cell_type": "code",
   "execution_count": null,
   "id": "1e542827-85f6-4d87-a262-e37c793bbb09",
   "metadata": {},
   "outputs": [],
   "source": []
  },
  {
   "cell_type": "code",
   "execution_count": null,
   "id": "e216be3c-7bff-4397-87de-1486d2b8dbf4",
   "metadata": {},
   "outputs": [],
   "source": []
  }
 ],
 "metadata": {
  "kernelspec": {
   "display_name": "Python 3 (ipykernel)",
   "language": "python",
   "name": "python3"
  },
  "language_info": {
   "codemirror_mode": {
    "name": "ipython",
    "version": 3
   },
   "file_extension": ".py",
   "mimetype": "text/x-python",
   "name": "python",
   "nbconvert_exporter": "python",
   "pygments_lexer": "ipython3",
   "version": "3.7.11"
  }
 },
 "nbformat": 4,
 "nbformat_minor": 5
}
